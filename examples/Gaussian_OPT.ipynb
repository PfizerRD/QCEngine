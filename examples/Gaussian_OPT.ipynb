{
 "cells": [
  {
   "cell_type": "code",
   "execution_count": 1,
   "id": "b6d9e550",
   "metadata": {},
   "outputs": [],
   "source": [
    "import sys\n",
    "import os\n",
    "\n",
    "sys.path.insert(0, '/home/guany20/workspace/QCFramework/QCElemental')\n",
    "sys.path.insert(0, '/home/guany20/workspace/QCFramework/QCEngine')"
   ]
  },
  {
   "cell_type": "code",
   "execution_count": 2,
   "id": "6bf70fd6",
   "metadata": {},
   "outputs": [],
   "source": [
    "from pathlib import Path\n",
    "import qcelemental as qcel\n",
    "import qcengine as qcng\n",
    "from qcengine.programs.gaussian import GaussianHarness\n",
    "\n",
    "qc_spec = qcel.models.common_models.Model(\n",
    "    method=\"b3lyp\", basis=\"6-31G\", extra={'solvent': 'h2o'}\n",
    ")"
   ]
  },
  {
   "cell_type": "code",
   "execution_count": 4,
   "id": "4214dc67",
   "metadata": {},
   "outputs": [
    {
     "data": {
      "text/plain": [
       "'h2o'"
      ]
     },
     "execution_count": 4,
     "metadata": {},
     "output_type": "execute_result"
    }
   ],
   "source": [
    "qc_spec.extra['solvent']"
   ]
  },
  {
   "cell_type": "code",
   "execution_count": 4,
   "id": "cf0795d4",
   "metadata": {
    "scrolled": false
   },
   "outputs": [],
   "source": [
    "# test QCElemental build molecule from xyz files\n",
    "\n",
    "from pathlib import Path\n",
    "import qcelemental as qcel\n",
    "import qcengine as qcng\n",
    "from qcengine.programs.gaussian import GaussianHarness\n",
    "\n",
    "data_root = Path('data')\n",
    "mol = qcel.models.Molecule.from_file(data_root/'CCC.xyz')\n",
    "qc_spec = qcel.models.common_models.Model(\n",
    "    method=\"b3lyp\", basis=\"6-31G\"\n",
    ")\n",
    "qc_task = qcel.models.AtomicInput(\n",
    "    molecule=mol, driver='optimization', model=qc_spec, keywords={'cmdline_extra': ['EmpiricalDispersion=GD3']},\n",
    ")\n",
    "g = GaussianHarness()\n",
    "result = g.compute(\n",
    "    input_data=qc_task,\n",
    "    config=qcng.config.TaskConfig(\n",
    "        **{\"memory\": 20, \"ncores\": 8, \"nnodes\": 1, \"retries\": 0, \"scratch_directory\": '/localscratch'}\n",
    "    ),\n",
    ")"
   ]
  },
  {
   "cell_type": "code",
   "execution_count": 16,
   "id": "758846dc",
   "metadata": {},
   "outputs": [],
   "source": [
    "import json\n",
    "\n",
    "with open('test.json', 'w') as fh:\n",
    "    json.dump(result.return_result, fh)"
   ]
  }
 ],
 "metadata": {
  "hide_input": false,
  "kernelspec": {
   "display_name": "QCdemo",
   "language": "python",
   "name": "qcdemo"
  },
  "language_info": {
   "codemirror_mode": {
    "name": "ipython",
    "version": 3
   },
   "file_extension": ".py",
   "mimetype": "text/x-python",
   "name": "python",
   "nbconvert_exporter": "python",
   "pygments_lexer": "ipython3",
   "version": "3.8.13"
  }
 },
 "nbformat": 4,
 "nbformat_minor": 5
}
