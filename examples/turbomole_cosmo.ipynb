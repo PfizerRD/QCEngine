{
 "cells": [
  {
   "cell_type": "code",
   "execution_count": 1,
   "id": "b6d9e550",
   "metadata": {},
   "outputs": [],
   "source": [
    "import sys\n",
    "import os\n",
    "\n",
    "sys.path.insert(0, '/home/guany20/workspace/QCFramework/QCElemental')\n",
    "sys.path.insert(0, '/home/guany20/workspace/QCFramework/QCEngine')\n",
    "\n",
    "with open('define.in') as fh:\n",
    "    infile = fh.read()\n",
    "    \n",
    "coord = open('coord').read()"
   ]
  },
  {
   "cell_type": "code",
   "execution_count": 4,
   "id": "cf0795d4",
   "metadata": {
    "scrolled": false
   },
   "outputs": [],
   "source": [
    "# test QCElemental build molecule from xyz files\n",
    "\n",
    "from pathlib import Path\n",
    "import qcelemental as qcel\n",
    "import qcengine as qcng\n",
    "from qcengine.util import execute\n",
    "\n",
    "commands = \"ml medsci turbomole && define < define.in\"\n",
    "infiles = {'define.in': infile, 'coord': coord}\n",
    "outfiles = ['control']\n",
    "\n",
    "exe_success, proc = execute(\n",
    "    command=commands.split(),\n",
    "    infiles=infiles,\n",
    "    outfiles=outfiles,\n",
    ")\n"
   ]
  },
  {
   "cell_type": "code",
   "execution_count": 9,
   "id": "758846dc",
   "metadata": {},
   "outputs": [
    {
     "name": "stdout",
     "output_type": "stream",
     "text": [
      "$title\n",
      "$symmetry c1\n",
      "$redundant    file=coord\n",
      "$user-defined bonds    file=coord\n",
      "$coord    file=coord\n",
      "$optimize\n",
      " internal   on\n",
      " redundant  on\n",
      " cartesian  off\n",
      " global     off\n",
      " basis      off\n",
      "$atoms\n",
      "o  1,31,54,56                                                                  \\\n",
      "   basis =o def-TZVP\n",
      "c  2-5,8-11,13-14,16-19,21-25,27-30,32-36,38-53,55                             \\\n",
      "   basis =c def-TZVP\n",
      "h  6,26,37,58-103                                                              \\\n",
      "   basis =h def-TZVP\n",
      "n  7,12,15,20,57                                                               \\\n",
      "   basis =n def-TZVP\n",
      "$basis    file=basis\n",
      "$scfmo   file=mos\n",
      "$closed shells\n",
      " a       1-193                                  ( 2 )\n",
      "$scfiterlimit       30\n",
      "$thize     0.10000000E-04\n",
      "$thime        5\n",
      "$scfdamp   start=0.300  step=0.050  min=0.100\n",
      "$scfdump\n",
      "$scfintunit\n",
      " unit=30       size=0        file=twoint\n",
      "$scfdiis\n",
      "$maxcor    500 MiB  per_core\n",
      "$scforbitalshift  automatic=.1\n",
      "$drvopt\n",
      "   cartesian  on\n",
      "   basis      off\n",
      "   global     off\n",
      "   hessian    on\n",
      "   dipole     on\n",
      "   nuclear polarizability\n",
      "$interconversion  off\n",
      "   qconv=1.d-7\n",
      "   maxiter=25\n",
      "$coordinateupdate\n",
      "   dqmax=0.3\n",
      "   interpolate  on\n",
      "   statistics    5\n",
      "$forceupdate\n",
      "   ahlrichs numgeo=0  mingeo=3 maxgeo=4 modus=<g|dq> dynamic fail=0.3\n",
      "   threig=0.005  reseig=0.005  thrbig=3.0  scale=1.00  damping=0.0\n",
      "$forceinit on\n",
      "   diag=default\n",
      "$energy    file=energy\n",
      "$grad    file=gradient\n",
      "$forceapprox    file=forceapprox\n",
      "$dft\n",
      "   functional b-p\n",
      "   gridsize   m3\n",
      "$scfconv   7\n",
      "$rundimensions\n",
      "   natoms=103\n",
      "   nbf(CAO)=1374\n",
      "   nbf(AO)=1320\n",
      "$last step     define\n",
      "$end\n",
      "\n"
     ]
    }
   ],
   "source": [
    "print(proc['outfiles']['control'])"
   ]
  }
 ],
 "metadata": {
  "hide_input": false,
  "kernelspec": {
   "display_name": "QCdemo",
   "language": "python",
   "name": "qcdemo"
  },
  "language_info": {
   "codemirror_mode": {
    "name": "ipython",
    "version": 3
   },
   "file_extension": ".py",
   "mimetype": "text/x-python",
   "name": "python",
   "nbconvert_exporter": "python",
   "pygments_lexer": "ipython3",
   "version": "3.8.13"
  }
 },
 "nbformat": 4,
 "nbformat_minor": 5
}
